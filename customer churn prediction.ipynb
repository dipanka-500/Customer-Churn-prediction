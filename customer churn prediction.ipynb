{
 "cells": [
  {
   "cell_type": "code",
   "execution_count": null,
   "id": "cb97c378-b249-4919-ab7b-34d2879f8f93",
   "metadata": {},
   "outputs": [],
   "source": [
    "import pandas as pd\n",
    "from sklearn.model_selection import train_test_split, GridSearchCV\n",
    "from sklearn.preprocessing import StandardScaler\n",
    "from imblearn.over_sampling import SMOTE\n",
    "from sklearn.ensemble import RandomForestClassifier\n",
    "from sklearn.svm import SVC\n",
    "from sklearn.metrics import make_scorer, accuracy_score, f1_score\n"
   ]
  },
  {
   "cell_type": "code",
   "execution_count": null,
   "id": "531e6245-2dff-4ccd-8737-c0d26d5be20d",
   "metadata": {},
   "outputs": [],
   "source": [
    "df=pd.read_csv(\"C:\\\\Users\\\\dipan\\\\Downloads\\\\Churn-Data.csv\")\n",
    "df=pd.get_dummies(df)\n",
    "df.fillna(df.median(), inplace=True)\n",
    "x=df.drop('Churn',axis=1)\n",
    "y=df['Churn']\n",
    "scaler = StandardScaler()\n",
    "x_scaled = scaler.fit_transform(x)\n",
    "smote=SMOTE(random_sample=42)\n",
    "x_res,y_res=smote.fit_resample(x_scaled,y)\n",
    "x_train, x_test, y_train, y_test = train_test_split(x_res, y_res, test_size=0.2, random_state=42)\n",
    "scoring = {'accuracy': make_scorer(accuracy_score), 'f1': make_scorer(f1_score)}\n",
    "#random forest classifier model\n",
    "rf=RandomForestClassifier(random_sample=42)\n",
    "rf_params = {\n",
    "    'n_estimators': [100, 200],\n",
    "    'max_depth': [None, 10, 20],\n",
    "    'min_samples_split': [2, 5],\n",
    "    'min_samples_leaf': [1, 2]\n",
    "}\n",
    "rf_grid = GridSearchCV(rf, rf_params, scoring=scoring, refit='f1', cv=5)\n",
    "rf_grid.fit(x_train, y_train)\n",
    "rf_best = rf_grid.best_estimator\n",
    "print(\"Random Forest Best Params:\", rf_grid.best_params_)\n",
    "# Evaluating on the test set\n",
    "rf_pred = rf_best.predict(x_test)\n",
    "rf_accuracy = accuracy_score(y_test, rf_pred)\n",
    "rf_f1 = f1_score(y_test, rf_pred)\n",
    "print(f\"Random Forest - Accuracy: {rf_accuracy}, F1-score: {rf_f1}\")"
   ]
  },
  {
   "cell_type": "code",
   "execution_count": null,
   "id": "ae530d37-f5cf-4cb9-9022-061e9510e674",
   "metadata": {},
   "outputs": [],
   "source": [
    "#Support vector classifier model\n",
    "svc = SVC(random_state=42)\n",
    "svc_params = {\n",
    "    'C': [0.1, 1, 10],\n",
    "    'kernel': ['linear', 'rbf'],\n",
    "    'gamma': ['scale', 'auto']\n",
    "}\n",
    "svc_grid = GridSearchCV(svc, svc_params, scoring=scoring, refit='f1', cv=5)\n",
    "svc_grid.fit(x_train,y_train)\n",
    "# Results of the grid search\n",
    "svc_best = svc_grid.best_estimator_\n",
    "print(\"SVC Best Params:\", svc_grid.best_params_)\n",
    "# Evaluating on the test set\n",
    "svc_pred = svc_best.predict(x_test)\n",
    "svc_accuracy = accuracy_score(y_test, svc_pred)\n",
    "svc_f1 = f1_score(y_test, svc_pred)\n",
    "print(f\"SVC - Accuracy: {svc_accuracy}, F1-score: {svc_f1}\")"
   ]
  }
 ],
 "metadata": {
  "kernelspec": {
   "display_name": "Python 3 (ipykernel)",
   "language": "python",
   "name": "python3"
  },
  "language_info": {
   "codemirror_mode": {
    "name": "ipython",
    "version": 3
   },
   "file_extension": ".py",
   "mimetype": "text/x-python",
   "name": "python",
   "nbconvert_exporter": "python",
   "pygments_lexer": "ipython3",
   "version": "3.8.2"
  }
 },
 "nbformat": 4,
 "nbformat_minor": 5
}
